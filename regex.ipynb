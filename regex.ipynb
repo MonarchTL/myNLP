{
 "cells": [
  {
   "cell_type": "code",
   "execution_count": 1,
   "id": "ba773035",
   "metadata": {},
   "outputs": [],
   "source": [
    "import re "
   ]
  },
  {
   "cell_type": "code",
   "execution_count": 15,
   "id": "3370dc45",
   "metadata": {},
   "outputs": [
    {
     "data": {
      "text/plain": [
       "['Business',\n",
       " 'Risk Factors',\n",
       " 'Unresolved Staff Comments',\n",
       " 'Cybersecurity',\n",
       " 'Properties',\n",
       " 'Legal Proceedings',\n",
       " 'Mine Safety Disclosures']"
      ]
     },
     "execution_count": 15,
     "metadata": {},
     "output_type": "execute_result"
    }
   ],
   "source": [
    "text = '''\n",
    "Item 1.Business\n",
    "Item 1A.Risk Factors\n",
    "Item 1B.Unresolved Staff Comments\n",
    "Item 1C.Cybersecurity\n",
    "Item 2.Properties\n",
    "Item 3.Legal Proceedings\n",
    "Item 4.Mine Safety Disclosures\n",
    "'''\n",
    "pattern = r'Item \\d(?:[ABC])?\\.(.*?)\\n'\n",
    "matches = re.findall(pattern, text)\n",
    "matches"
   ]
  },
  {
   "cell_type": "code",
   "execution_count": 17,
   "id": "6ca7b24e",
   "metadata": {},
   "outputs": [
    {
     "data": {
      "text/plain": [
       "['fy2018 q3', 'FY2021 Q1', 'FY2020 Q4']"
      ]
     },
     "execution_count": 17,
     "metadata": {},
     "output_type": "execute_result"
    }
   ],
   "source": [
    "# Extractig financial year\n",
    "text = '''the gross cost of lease vehicle in fy2018 q3 FY2021 Q1 is $40,000 and the gross previously in FY2020 Q4 was $200,000.'''\n",
    "pattern = 'FY\\d{4} Q[1-4]'\n",
    "matches = re.findall(pattern, text, flags = re.IGNORECASE)\n",
    "matches\n"
   ]
  },
  {
   "cell_type": "code",
   "execution_count": 19,
   "id": "c652fd3d",
   "metadata": {},
   "outputs": [
    {
     "data": {
      "text/plain": [
       "['40,000', '200,000']"
      ]
     },
     "execution_count": 19,
     "metadata": {},
     "output_type": "execute_result"
    }
   ],
   "source": [
    "#extracting currency \n",
    "text = '''the gross cost of lease vehicle in fy2018 q3 FY2021 Q1 is $40,000 and the gross previously in FY2020 Q4 was $200,000.'''\n",
    "pattern = '\\$([\\d\\,]+)'\n",
    "matches = re.findall(pattern, text)\n",
    "matches"
   ]
  },
  {
   "cell_type": "code",
   "execution_count": 20,
   "id": "8fc51ef6",
   "metadata": {},
   "outputs": [
    {
     "data": {
      "text/plain": [
       "[('2021 Q1', '40,000'), ('2020 Q4', '200,000')]"
      ]
     },
     "execution_count": 20,
     "metadata": {},
     "output_type": "execute_result"
    }
   ],
   "source": [
    "#extracting currency \n",
    "text = '''the gross cost of lease vehicle in fy2018 q3 FY2021 Q1 is $40,000 and the gross previously in FY2020 Q4 was $200,000.'''\n",
    "pattern = 'FY(\\d{4} Q[1-4])[^\\$]+\\$([\\d\\,]+)'\n",
    "matches = re.findall(pattern, text)\n",
    "matches"
   ]
  },
  {
   "cell_type": "code",
   "execution_count": 21,
   "id": "bda90839",
   "metadata": {},
   "outputs": [
    {
     "data": {
      "text/plain": [
       "['elonmusk', 'teslarati', 'dummy_tesla', 'dummy_2_tesla']"
      ]
     },
     "execution_count": 21,
     "metadata": {},
     "output_type": "execute_result"
    }
   ],
   "source": [
    "#exercise \n",
    "text = '''\n",
    "Follow our leader Elon musk on twitter here: https://twitter.com/elonmusk, more information \n",
    "on Tesla's products can be found at https://www.tesla.com/. Also here are leading influencers \n",
    "for tesla related news,\n",
    "https://twitter.com/teslarati\n",
    "https://twitter.com/dummy_tesla\n",
    "https://twitter.com/dummy_2_tesla\n",
    "'''\n",
    "pattern = 'https:\\/\\/twitter\\.com\\/([a-z\\_\\d]+)' # todo: type your regex here\n",
    "\n",
    "re.findall(pattern, text)"
   ]
  },
  {
   "cell_type": "code",
   "execution_count": 22,
   "id": "0fd94c6f",
   "metadata": {},
   "outputs": [
    {
     "data": {
      "text/plain": [
       "['Credit Risk', 'Supply Risk']"
      ]
     },
     "execution_count": 22,
     "metadata": {},
     "output_type": "execute_result"
    }
   ],
   "source": [
    "text = '''\n",
    "Concentration of Risk: Credit Risk\n",
    "Financial instruments that potentially subject us to a concentration of credit risk consist of cash, cash equivalents, marketable securities,\n",
    "restricted cash, accounts receivable, convertible note hedges, and interest rate swaps. Our cash balances are primarily invested in money market funds\n",
    "or on deposit at high credit quality financial institutions in the U.S. These deposits are typically in excess of insured limits. As of September 30, 2021\n",
    "and December 31, 2020, no entity represented 10% or more of our total accounts receivable balance. The risk of concentration for our convertible note\n",
    "hedges and interest rate swaps is mitigated by transacting with several highly-rated multinational banks.\n",
    "Concentration of Risk: Supply Risk\n",
    "We are dependent on our suppliers, including single source suppliers, and the inability of these suppliers to deliver necessary components of our\n",
    "products in a timely manner at prices, quality levels and volumes acceptable to us, or our inability to efficiently manage these components from these\n",
    "suppliers, could have a material adverse effect on our business, prospects, financial condition and operating results.\n",
    "'''\n",
    "pattern = 'Concentration of Risk\\: ([a-zA-Z]+ [a-zA-Z]+)' \n",
    "\n",
    "re.findall(pattern, text)"
   ]
  }
 ],
 "metadata": {
  "kernelspec": {
   "display_name": "Python 3 (ipykernel)",
   "language": "python",
   "name": "python3"
  },
  "language_info": {
   "codemirror_mode": {
    "name": "ipython",
    "version": 3
   },
   "file_extension": ".py",
   "mimetype": "text/x-python",
   "name": "python",
   "nbconvert_exporter": "python",
   "pygments_lexer": "ipython3",
   "version": "3.11.5"
  }
 },
 "nbformat": 4,
 "nbformat_minor": 5
}
